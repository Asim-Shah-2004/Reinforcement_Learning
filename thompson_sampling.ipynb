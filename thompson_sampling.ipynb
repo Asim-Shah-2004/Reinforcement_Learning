{
  "nbformat": 4,
  "nbformat_minor": 0,
  "metadata": {
    "colab": {
      "provenance": [],
      "include_colab_link": true
    },
    "kernelspec": {
      "name": "python3",
      "display_name": "Python 3"
    }
  },
  "cells": [
    {
      "cell_type": "markdown",
      "metadata": {
        "id": "view-in-github",
        "colab_type": "text"
      },
      "source": [
        "<a href=\"https://colab.research.google.com/github/Asim-Shah-2004/Reinforcement_Learning/blob/main/thompson_sampling.ipynb\" target=\"_parent\"><img src=\"https://colab.research.google.com/assets/colab-badge.svg\" alt=\"Open In Colab\"/></a>"
      ]
    },
    {
      "cell_type": "markdown",
      "metadata": {
        "id": "vPKTIRAtx232"
      },
      "source": [
        "# Thompson Sampling"
      ]
    },
    {
      "cell_type": "markdown",
      "metadata": {
        "id": "PqPv9zpAx-EE"
      },
      "source": [
        "## Importing the libraries"
      ]
    },
    {
      "cell_type": "code",
      "source": [
        "import numpy as np\n",
        "import matplotlib.pyplot as plt\n",
        "import pandas as pd"
      ],
      "metadata": {
        "id": "cFWG0-lD_K05"
      },
      "execution_count": 2,
      "outputs": []
    },
    {
      "cell_type": "markdown",
      "metadata": {
        "id": "iqpVk5HhyGmO"
      },
      "source": [
        "## Importing the dataset"
      ]
    },
    {
      "cell_type": "code",
      "metadata": {
        "id": "kY4zzW4hyNfA"
      },
      "source": [
        "dataset = pd.read_csv('Ads_CTR_Optimisation.csv')"
      ],
      "execution_count": 4,
      "outputs": []
    },
    {
      "cell_type": "markdown",
      "metadata": {
        "id": "WqoXeWOYyQhB"
      },
      "source": [
        "## Implementing Thompson Sampling"
      ]
    },
    {
      "cell_type": "code",
      "source": [
        "import random\n",
        "N = 500 #requires less rounds\n",
        "d = 10\n",
        "ads_selected = []\n",
        "numbers_of_rewards_0 = [0]*d\n",
        "numbers_of_rewards_1 = [0]*d\n",
        "total_reward = 0\n",
        "for n in range(0,N):\n",
        "  ad = 0\n",
        "  max_random = 0\n",
        "  for i in range(0,d):\n",
        "    x = numbers_of_rewards_1[i]+1\n",
        "    y = numbers_of_rewards_0[i]+1\n",
        "    beta = random.betavariate(x,y)\n",
        "    if(beta>max_random):\n",
        "      max_random = beta\n",
        "      ad = i\n",
        "  ads_selected.append(ad)\n",
        "  reward = dataset.values[n,ad]\n",
        "  if reward==1:\n",
        "    numbers_of_rewards_1[ad] = numbers_of_rewards_1[ad] + 1\n",
        "  else:\n",
        "    numbers_of_rewards_0[ad] = numbers_of_rewards_0[ad] + 1\n",
        "  total_reward = total_reward + reward\n",
        "\n"
      ],
      "metadata": {
        "id": "TNxtxIh6_syl"
      },
      "execution_count": 22,
      "outputs": []
    },
    {
      "cell_type": "markdown",
      "metadata": {
        "id": "tweWsgTHyXhv"
      },
      "source": [
        "## Visualising the results - Histogram"
      ]
    },
    {
      "cell_type": "code",
      "source": [
        "plt.hist(ads_selected)\n",
        "plt.title('Histogram of ads selections')\n",
        "plt.xlabel('Ads')\n",
        "plt.ylabel('Number of times each ad was selected')\n",
        "plt.show()"
      ],
      "metadata": {
        "colab": {
          "base_uri": "https://localhost:8080/",
          "height": 472
        },
        "id": "43ieddd4E55K",
        "outputId": "99b3682e-a316-4899-f631-60f1202fae97"
      },
      "execution_count": 23,
      "outputs": [
        {
          "output_type": "display_data",
          "data": {
            "text/plain": [
              "<Figure size 640x480 with 1 Axes>"
            ],
            "image/png": "[encoded data removed]"
          },
          "metadata": {}
        }
      ]
    }
  ]
}